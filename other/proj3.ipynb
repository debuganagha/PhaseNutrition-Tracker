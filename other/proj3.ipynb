{
 "cells": [
  {
   "cell_type": "code",
   "execution_count": 2,
   "metadata": {},
   "outputs": [],
   "source": [
    "import pandas as pd\n",
    "import numpy as np\n",
    "from sklearn.model_selection import train_test_split\n",
    "from sklearn.ensemble import RandomForestClassifier\n",
    "from sklearn.metrics import classification_report\n",
    "from datetime import datetime, timedelta"
   ]
  },
  {
   "cell_type": "code",
   "execution_count": 3,
   "metadata": {},
   "outputs": [
    {
     "name": "stdout",
     "output_type": "stream",
     "text": [
      "   LengthofCycle EstimatedDayofOvulation LengthofLutealPhase LengthofMenses  \\\n",
      "0             29                      17                  12              2   \n",
      "1             27                      15                  12              2   \n",
      "2             29                      15                  14              2   \n",
      "3             27                      15                  12              2   \n",
      "4             28                      16                  12              2   \n",
      "\n",
      "  MensesScoreDayOne MensesScoreDayTwo MensesScoreDayThree MensesScoreDayFour  \\\n",
      "0                 3                 3                   2                  1   \n",
      "1                 3                 3                   2                  1   \n",
      "2                 3                 3                   2                  1   \n",
      "3                 3                 3                   3                  2   \n",
      "4                 3                 3                   2                  2   \n",
      "\n",
      "  MensesScoreDayFive MensesScoreDaySix MensesScoreDaySeven  \\\n",
      "0                  1                                         \n",
      "1                  1                                         \n",
      "2                  1                                         \n",
      "3                  1                                         \n",
      "4                  1                                         \n",
      "\n",
      "  MensesScoreDayEight MensesScoreDayNine MensesScoreDayTen MensesScoreDay11  \\\n",
      "0                                                                             \n",
      "1                                                                             \n",
      "2                                                                             \n",
      "3                                                                             \n",
      "4                                                                             \n",
      "\n",
      "  MensesScoreDay12 MensesScoreDay13 MensesScoreDay14 MensesScoreDay15  \\\n",
      "0                                                                       \n",
      "1                                                                       \n",
      "2                                                                       \n",
      "3                                                                       \n",
      "4                                                                       \n",
      "\n",
      "  TotalMensesScore  \n",
      "0               10  \n",
      "1               10  \n",
      "2               10  \n",
      "3               12  \n",
      "4               11  \n"
     ]
    }
   ],
   "source": [
    "# Load data from CSV file\n",
    "data = pd.read_csv('FedCycleData071012_edited.csv')\n",
    "\n",
    "print(data.head())"
   ]
  },
  {
   "cell_type": "code",
   "execution_count": 4,
   "metadata": {},
   "outputs": [
    {
     "name": "stdout",
     "output_type": "stream",
     "text": [
      "LengthofCycle                int64\n",
      "EstimatedDayofOvulation    float64\n",
      "LengthofLutealPhase        float64\n",
      "LengthofMenses             float64\n",
      "MensesScoreDayOne          float64\n",
      "MensesScoreDayTwo          float64\n",
      "MensesScoreDayThree        float64\n",
      "MensesScoreDayFour         float64\n",
      "MensesScoreDayFive         float64\n",
      "MensesScoreDaySix          float64\n",
      "MensesScoreDaySeven        float64\n",
      "MensesScoreDayEight        float64\n",
      "MensesScoreDayNine         float64\n",
      "MensesScoreDayTen          float64\n",
      "MensesScoreDay11           float64\n",
      "MensesScoreDay12           float64\n",
      "MensesScoreDay13           float64\n",
      "MensesScoreDay14           float64\n",
      "MensesScoreDay15           float64\n",
      "TotalMensesScore           float64\n",
      "dtype: object\n"
     ]
    }
   ],
   "source": [
    "# Convert all columns to numeric where applicable\n",
    "data = data.apply(pd.to_numeric, errors='coerce')\n",
    "# Verify the conversion by checking the data types\n",
    "print(data.dtypes)"
   ]
  },
  {
   "cell_type": "code",
   "execution_count": 5,
   "metadata": {},
   "outputs": [],
   "source": [
    "# Assume today's date for the entire dataset\n",
    "data['current_date'] = pd.Timestamp(datetime.today())\n",
    "\n",
    "# Assume last period start date is a random value between 0 and 28 days ago for everyone\n",
    "np.random.seed(42)  # For reproducibility\n",
    "data['last_period_start_date'] = data['current_date'] - pd.to_timedelta(np.random.randint(0, 30, size=len(data)), unit='D')\n",
    "\n",
    "# Convert date columns to datetime\n",
    "data['current_date'] = pd.to_datetime(data['current_date'])\n",
    "data['last_period_start_date'] = pd.to_datetime(data['last_period_start_date'])\n",
    "\n",
    "# Calculate the cycle day using menstrual_length\n",
    "data['cycle_day'] = (data['current_date'] - data['last_period_start_date']).dt.days"
   ]
  },
  {
   "cell_type": "code",
   "execution_count": 6,
   "metadata": {},
   "outputs": [
    {
     "name": "stdout",
     "output_type": "stream",
     "text": [
      "0        6\n",
      "1       19\n",
      "2       28\n",
      "3       14\n",
      "4       10\n",
      "        ..\n",
      "1660    27\n",
      "1661    14\n",
      "1662     7\n",
      "1663     1\n",
      "1664     2\n",
      "Name: cycle_day, Length: 1665, dtype: int64\n",
      "phase\n",
      "Luteal        805\n",
      "Follicular    499\n",
      "Menstrual     324\n",
      "Ovulation      37\n",
      "Name: count, dtype: int64\n",
      "   LengthofCycle  EstimatedDayofOvulation  LengthofLutealPhase  \\\n",
      "0             29                     17.0                 12.0   \n",
      "1             27                     15.0                 12.0   \n",
      "2             29                     15.0                 14.0   \n",
      "3             27                     15.0                 12.0   \n",
      "4             28                     16.0                 12.0   \n",
      "\n",
      "   LengthofMenses  MensesScoreDayOne  MensesScoreDayTwo  MensesScoreDayThree  \\\n",
      "0             2.0                3.0                3.0                  2.0   \n",
      "1             2.0                3.0                3.0                  2.0   \n",
      "2             2.0                3.0                3.0                  2.0   \n",
      "3             2.0                3.0                3.0                  3.0   \n",
      "4             2.0                3.0                3.0                  2.0   \n",
      "\n",
      "   MensesScoreDayFour  MensesScoreDayFive  MensesScoreDaySix  ...  \\\n",
      "0                 1.0                 1.0                NaN  ...   \n",
      "1                 1.0                 1.0                NaN  ...   \n",
      "2                 1.0                 1.0                NaN  ...   \n",
      "3                 2.0                 1.0                NaN  ...   \n",
      "4                 2.0                 1.0                NaN  ...   \n",
      "\n",
      "   MensesScoreDay11  MensesScoreDay12  MensesScoreDay13  MensesScoreDay14  \\\n",
      "0               NaN               NaN               NaN               NaN   \n",
      "1               NaN               NaN               NaN               NaN   \n",
      "2               NaN               NaN               NaN               NaN   \n",
      "3               NaN               NaN               NaN               NaN   \n",
      "4               NaN               NaN               NaN               NaN   \n",
      "\n",
      "   MensesScoreDay15  TotalMensesScore               current_date  \\\n",
      "0               NaN              10.0 2024-08-31 11:28:42.208017   \n",
      "1               NaN              10.0 2024-08-31 11:28:42.208017   \n",
      "2               NaN              10.0 2024-08-31 11:28:42.208017   \n",
      "3               NaN              12.0 2024-08-31 11:28:42.208017   \n",
      "4               NaN              11.0 2024-08-31 11:28:42.208017   \n",
      "\n",
      "      last_period_start_date  cycle_day       phase  \n",
      "0 2024-08-25 11:28:42.208017          6  Follicular  \n",
      "1 2024-08-12 11:28:42.208017         19      Luteal  \n",
      "2 2024-08-03 11:28:42.208017         28      Luteal  \n",
      "3 2024-08-17 11:28:42.208017         14      Luteal  \n",
      "4 2024-08-21 11:28:42.208017         10  Follicular  \n",
      "\n",
      "[5 rows x 24 columns]\n"
     ]
    }
   ],
   "source": [
    "# Label the phases based on cycle day and duration\n",
    "def label_phase(row):\n",
    "    if 0 <= row['cycle_day'] < row['LengthofMenses']:\n",
    "        return 'Menstrual'\n",
    "    elif row['LengthofMenses'] <= row['cycle_day'] < (row['LengthofCycle'] - 14):\n",
    "        return 'Follicular'\n",
    "    elif (row['cycle_day'] == row['EstimatedDayofOvulation']):\n",
    "        # row['LengthofCycle'] - 14) <= row['cycle_day'] < (row['LengthofCycle'] - 15)\n",
    "        return 'Ovulation'\n",
    "    else:\n",
    "        return 'Luteal'\n",
    "\n",
    "# Apply the label_phase function to create the 'phase' column\n",
    "data['phase'] = data.apply(label_phase, axis=1)\n",
    "\n",
    "print(data['cycle_day'])\n",
    "\n",
    "phase_counts = data['phase'].value_counts()\n",
    "print(phase_counts)\n",
    "\n",
    "print(data.head())"
   ]
  },
  {
   "cell_type": "code",
   "execution_count": 7,
   "metadata": {},
   "outputs": [
    {
     "name": "stdout",
     "output_type": "stream",
     "text": [
      "Index(['LengthofCycle', 'EstimatedDayofOvulation', 'LengthofLutealPhase',\n",
      "       'LengthofMenses', 'MensesScoreDayOne', 'MensesScoreDayTwo',\n",
      "       'MensesScoreDayThree', 'MensesScoreDayFour', 'MensesScoreDayFive',\n",
      "       'MensesScoreDaySix', 'MensesScoreDaySeven', 'MensesScoreDayEight',\n",
      "       'MensesScoreDayNine', 'MensesScoreDayTen', 'MensesScoreDay11',\n",
      "       'MensesScoreDay12', 'MensesScoreDay13', 'MensesScoreDay14',\n",
      "       'MensesScoreDay15', 'TotalMensesScore', 'current_date',\n",
      "       'last_period_start_date', 'cycle_day', 'phase'],\n",
      "      dtype='object')\n"
     ]
    }
   ],
   "source": [
    "print(data.columns)"
   ]
  },
  {
   "cell_type": "code",
   "execution_count": 8,
   "metadata": {},
   "outputs": [],
   "source": [
    "# Prepare features and labels\n",
    "X = data.drop(['phase', 'MensesScoreDayOne', 'MensesScoreDayTwo', \n",
    "               'MensesScoreDayThree', 'MensesScoreDayFour', 'MensesScoreDayFive', \n",
    "               'MensesScoreDaySix', 'MensesScoreDaySeven', 'MensesScoreDayEight', \n",
    "               'MensesScoreDayNine', 'MensesScoreDayTen', 'MensesScoreDay11', \n",
    "               'MensesScoreDay12', 'MensesScoreDay13', 'MensesScoreDay14', 'MensesScoreDay15',\n",
    "               'TotalMensesScore', 'LengthofLutealPhase'], axis=1)\n",
    "y = data['phase']"
   ]
  },
  {
   "cell_type": "code",
   "execution_count": 14,
   "metadata": {},
   "outputs": [
    {
     "name": "stdout",
     "output_type": "stream",
     "text": [
      "Index(['LengthofCycle', 'EstimatedDayofOvulation', 'LengthofMenses',\n",
      "       'current_date', 'last_period_start_date', 'cycle_day'],\n",
      "      dtype='object')\n"
     ]
    }
   ],
   "source": [
    "print(X.columns)"
   ]
  },
  {
   "cell_type": "code",
   "execution_count": 9,
   "metadata": {},
   "outputs": [
    {
     "name": "stdout",
     "output_type": "stream",
     "text": [
      "LengthofCycle                       int64\n",
      "EstimatedDayofOvulation           float64\n",
      "LengthofMenses                    float64\n",
      "current_date               datetime64[us]\n",
      "last_period_start_date     datetime64[ns]\n",
      "cycle_day                           int64\n",
      "dtype: object\n"
     ]
    }
   ],
   "source": [
    "# Check data types and fix if necessary\n",
    "print(X.dtypes)\n",
    "X = X.apply(pd.to_numeric, errors='coerce')  # Convert columns to numeric, forcing errors to NaN\n",
    "\n",
    "# Drop rows with NaN values if any\n",
    "X = X.dropna()\n",
    "y = y[X.index]  # Ensure y matches the indices of X"
   ]
  },
  {
   "cell_type": "code",
   "execution_count": 10,
   "metadata": {},
   "outputs": [
    {
     "name": "stdout",
     "output_type": "stream",
     "text": [
      "      LengthofCycle  EstimatedDayofOvulation  LengthofMenses  \\\n",
      "0                29                     17.0             2.0   \n",
      "1                27                     15.0             2.0   \n",
      "2                29                     15.0             2.0   \n",
      "3                27                     15.0             2.0   \n",
      "4                28                     16.0             2.0   \n",
      "...             ...                      ...             ...   \n",
      "1656             29                     17.0            10.0   \n",
      "1657             30                     19.0            10.0   \n",
      "1658             30                     19.0            10.0   \n",
      "1659             32                     19.0            11.0   \n",
      "1660             29                     19.0            15.0   \n",
      "\n",
      "          current_date  last_period_start_date  cycle_day  \n",
      "0     1725103722208017     1724585322208017000          6  \n",
      "1     1725103722208017     1723462122208017000         19  \n",
      "2     1725103722208017     1722684522208017000         28  \n",
      "3     1725103722208017     1723894122208017000         14  \n",
      "4     1725103722208017     1724239722208017000         10  \n",
      "...                ...                     ...        ...  \n",
      "1656  1725103722208017     1724758122208017000          4  \n",
      "1657  1725103722208017     1724930922208017000          2  \n",
      "1658  1725103722208017     1723548522208017000         18  \n",
      "1659  1725103722208017     1725103722208017000          0  \n",
      "1660  1725103722208017     1722770922208017000         27  \n",
      "\n",
      "[1512 rows x 6 columns]\n"
     ]
    }
   ],
   "source": [
    "print(X)"
   ]
  },
  {
   "cell_type": "code",
   "execution_count": 11,
   "metadata": {},
   "outputs": [
    {
     "name": "stdout",
     "output_type": "stream",
     "text": [
      "              precision    recall  f1-score   support\n",
      "\n",
      "  Follicular       0.96      0.98      0.97       128\n",
      "      Luteal       0.96      0.95      0.95       227\n",
      "   Menstrual       1.00      1.00      1.00        87\n",
      "   Ovulation       0.46      0.50      0.48        12\n",
      "\n",
      "    accuracy                           0.95       454\n",
      "   macro avg       0.85      0.86      0.85       454\n",
      "weighted avg       0.95      0.95      0.95       454\n",
      "\n"
     ]
    }
   ],
   "source": [
    "# Split the data\n",
    "x_train, x_test, y_train, y_test = train_test_split(X, y, test_size=0.3, random_state=42)\n",
    "\n",
    "# Train the model\n",
    "model = RandomForestClassifier(random_state=42)\n",
    "model.fit(x_train, y_train)\n",
    "\n",
    "# Make predictions\n",
    "y_pred = model.predict(x_test)\n",
    "\n",
    "# Evaluate the model\n",
    "report = classification_report(y_test, y_pred)\n",
    "print(report)"
   ]
  },
  {
   "cell_type": "code",
   "execution_count": 12,
   "metadata": {},
   "outputs": [
    {
     "name": "stdout",
     "output_type": "stream",
     "text": [
      "Predicted Phase: ['Luteal']\n",
      "Recommended Foods: ['Magnesium-rich foods', 'Complex carbs']\n"
     ]
    }
   ],
   "source": [
    "# Assuming 'model' and 'X' are already defined\n",
    "\n",
    "# Create new data\n",
    "new_data = pd.DataFrame({\n",
    "    'LengthofCycle': [28],\n",
    "    'LengthofMenses': [6],\n",
    "    'current_date': [pd.Timestamp(datetime.today())],\n",
    "    'last_period_start_date': [pd.Timestamp(datetime.today() - timedelta(days=0))]\n",
    "})\n",
    "\n",
    "# Feature engineering for new data\n",
    "new_data['cycle_day'] = (new_data['current_date'] - new_data['last_period_start_date']).dt.days\n",
    "\n",
    "# Drop original DateTime columns as they are not needed for prediction\n",
    "new_data = new_data.drop(columns=['current_date', 'last_period_start_date'])\n",
    "\n",
    "# Ensure the new data has the same columns as the training data\n",
    "new_data = new_data.reindex(columns=X.columns, fill_value=0)\n",
    "\n",
    "# Predict the phase\n",
    "predicted_phase = model.predict(new_data)\n",
    "print(f'Predicted Phase: {predicted_phase}')\n",
    "\n",
    "\n",
    "# Recommend food based on the phase\n",
    "food_recommendations = {\n",
    "    'Menstrual': ['Iron-rich foods', 'Hydration'],\n",
    "    'Follicular': ['Folate-rich foods', 'Protein'],\n",
    "    'Ovulation': ['Anti-inflammatory foods', 'Healthy fats'],\n",
    "    'Luteal': ['Magnesium-rich foods', 'Complex carbs']\n",
    "}\n",
    "\n",
    "print(f'Recommended Foods: {food_recommendations[predicted_phase[0]]}')"
   ]
  }
 ],
 "metadata": {
  "kernelspec": {
   "display_name": "Python 3",
   "language": "python",
   "name": "python3"
  },
  "language_info": {
   "codemirror_mode": {
    "name": "ipython",
    "version": 3
   },
   "file_extension": ".py",
   "mimetype": "text/x-python",
   "name": "python",
   "nbconvert_exporter": "python",
   "pygments_lexer": "ipython3",
   "version": "3.12.4"
  }
 },
 "nbformat": 4,
 "nbformat_minor": 2
}
