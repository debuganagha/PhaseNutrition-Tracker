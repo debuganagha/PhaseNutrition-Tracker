{
 "cells": [
  {
   "cell_type": "code",
   "execution_count": null,
   "metadata": {},
   "outputs": [],
   "source": [
    "import pandas as pd\n",
    "from sklearn.model_selection import train_test_split\n",
    "from sklearn.ensemble import RandomForestClassifier\n",
    "from sklearn.metrics import accuracy_score\n",
    "from datetime import datetime, timedelta"
   ]
  },
  {
   "cell_type": "code",
   "execution_count": null,
   "metadata": {},
   "outputs": [],
   "source": [
    "# Load data from CSV file\n",
    "data = pd.read_csv('women_health.csv')"
   ]
  },
  {
   "cell_type": "code",
   "execution_count": null,
   "metadata": {},
   "outputs": [],
   "source": [
    "# Assume today's date for the entire dataset\n",
    "data['current_date'] = pd.Timestamp(datetime.today())"
   ]
  },
  {
   "cell_type": "code",
   "execution_count": null,
   "metadata": {},
   "outputs": [],
   "source": [
    "# Assume last period start date was 20 days ago for everyone\n",
    "data['last_period_start_date'] = data['current_date'] - timedelta(days=20)"
   ]
  },
  {
   "cell_type": "code",
   "execution_count": null,
   "metadata": {},
   "outputs": [],
   "source": [
    "# Convert date columns to datetime\n",
    "data['current_date'] = pd.to_datetime(data['current_date'])\n",
    "data['last_period_start_date'] = pd.to_datetime(data['last_period_start_date'])"
   ]
  },
  {
   "cell_type": "code",
   "execution_count": null,
   "metadata": {},
   "outputs": [],
   "source": [
    "# Calculate the cycle day\n",
    "data['cycle_day'] = (data['current_date'] - data['last_period_start_date']).dt.days % data['interval_length']"
   ]
  },
  {
   "cell_type": "code",
   "execution_count": null,
   "metadata": {},
   "outputs": [],
   "source": [
    "# Encoding categorical variables\n",
    "data = pd.get_dummies(data, columns=['regularity', 'flow_type'])"
   ]
  },
  {
   "cell_type": "code",
   "execution_count": null,
   "metadata": {},
   "outputs": [],
   "source": [
    "# Label the phases based on cycle day\n",
    "def label_phase(row):\n",
    "    if 0 <= row['cycle_day'] <= 4:\n",
    "        return 'Menstrual'\n",
    "    elif 5 <= row['cycle_day'] <= 13:\n",
    "        return 'Follicular'\n",
    "    elif row['cycle_day'] == 14:\n",
    "        return 'Ovulation'\n",
    "    else:\n",
    "        return 'Luteal'"
   ]
  },
  {
   "cell_type": "code",
   "execution_count": null,
   "metadata": {},
   "outputs": [],
   "source": [
    "# Apply the label_phase function to create the 'phase' column\n",
    "data['phase'] = data.apply(label_phase, axis=1)"
   ]
  },
  {
   "cell_type": "code",
   "execution_count": null,
   "metadata": {},
   "outputs": [],
   "source": [
    "# Prepare features and labels\n",
    "X = data.drop(['phase', 'current_date', 'last_period_start_date'], axis=1)\n",
    "y = data['phase']"
   ]
  },
  {
   "cell_type": "code",
   "execution_count": null,
   "metadata": {},
   "outputs": [],
   "source": [
    "# Check data types and fix if necessary\n",
    "print(X.dtypes)\n",
    "X = X.apply(pd.to_numeric, errors='coerce')  # Convert columns to numeric, forcing errors to NaN\n",
    "\n",
    "# Drop rows with NaN values if any\n",
    "X = X.dropna()\n",
    "y = y[X.index]  # Ensure y matches the indices of X\n",
    "\n",
    "# Split the data\n",
    "X_train, X_test, y_train, y_test = train_test_split(X, y, test_size=0.2, random_state=42)\n",
    "\n",
    "# Train the model\n",
    "model = RandomForestClassifier(random_state=42)\n",
    "model.fit(X_train, y_train)"
   ]
  },
  {
   "cell_type": "code",
   "execution_count": null,
   "metadata": {},
   "outputs": [],
   "source": [
    "# Make predictions\n",
    "y_pred = model.predict(X_test)\n",
    "\n",
    "# Evaluate the model\n",
    "accuracy = accuracy_score(y_test, y_pred)\n",
    "print(f'Accuracy: {accuracy}')\n",
    "\n",
    "# Predict the phase for new data\n",
    "new_data = pd.DataFrame({\n",
    "    'gender': ['female'],\n",
    "    'age': [25],\n",
    "    'regularity': ['regular'],\n",
    "    'interval_length': [28],\n",
    "    'duration': [5],\n",
    "    'flow_type': ['heavy'],\n",
    "    'current_date': [pd.Timestamp(datetime.today())],\n",
    "    'last_period_start_date': [pd.Timestamp(datetime.today() - timedelta(days=15))]\n",
    "})\n",
    "\n",
    "# Feature engineering for new data\n",
    "new_data['cycle_day'] = (new_data['current_date'] - new_data['last_period_start_date']).dt.days % new_data['interval_length']\n",
    "new_data = pd.get_dummies(new_data, columns=['regularity', 'flow_type'])\n",
    "\n",
    "# Ensure the new data has the same columns as the training data\n",
    "new_data = new_data.reindex(columns=X.columns, fill_value=0)\n",
    "\n",
    "# Predict the phase\n",
    "predicted_phase = model.predict(new_data)\n",
    "print(f'Predicted Phase: {predicted_phase[0]}')\n",
    "\n",
    "# Recommend food based on the phase\n",
    "food_recommendations = {\n",
    "    'Menstrual': ['Iron-rich foods', 'Hydration'],\n",
    "    'Follicular': ['Folate-rich foods', 'Protein'],\n",
    "    'Ovulation': ['Anti-inflammatory foods', 'Healthy fats'],\n",
    "    'Luteal': ['Magnesium-rich foods', 'Complex carbs']\n",
    "}\n",
    "\n",
    "print(f'Recommended Foods: {food_recommendations[predicted_phase[0]]}')"
   ]
  }
 ],
 "metadata": {
  "kernelspec": {
   "display_name": "Python 3",
   "language": "python",
   "name": "python3"
  },
  "language_info": {
   "codemirror_mode": {
    "name": "ipython",
    "version": 3
   },
   "file_extension": ".py",
   "mimetype": "text/x-python",
   "name": "python",
   "nbconvert_exporter": "python",
   "pygments_lexer": "ipython3",
   "version": "3.12.4"
  }
 },
 "nbformat": 4,
 "nbformat_minor": 2
}
